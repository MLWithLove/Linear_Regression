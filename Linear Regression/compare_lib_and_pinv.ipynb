{
 "metadata": {
  "language_info": {
   "codemirror_mode": {
    "name": "ipython",
    "version": 3
   },
   "file_extension": ".py",
   "mimetype": "text/x-python",
   "name": "python",
   "nbconvert_exporter": "python",
   "pygments_lexer": "ipython3",
   "version": "3.8.5-final"
  },
  "orig_nbformat": 2,
  "kernelspec": {
   "name": "python3",
   "display_name": "Python 3",
   "language": "python"
  }
 },
 "nbformat": 4,
 "nbformat_minor": 2,
 "cells": [
  {
   "cell_type": "code",
   "execution_count": 30,
   "metadata": {},
   "outputs": [],
   "source": [
    "import numpy as np \n",
    "import pandas as pd \n",
    "import matplotlib.pyplot as plt \n",
    "from numpy.linalg import norm\n",
    "from numpy.linalg import matrix_rank"
   ]
  },
  {
   "cell_type": "code",
   "execution_count": 31,
   "metadata": {},
   "outputs": [
    {
     "output_type": "execute_result",
     "data": {
      "text/plain": [
       "               id             date     price  bedrooms  bathrooms  \\\n",
       "0      7129300520  20141013T000000  221900.0         3       1.00   \n",
       "1      6414100192  20141209T000000  538000.0         3       2.25   \n",
       "2      5631500400  20150225T000000  180000.0         2       1.00   \n",
       "3      2487200875  20141209T000000  604000.0         4       3.00   \n",
       "4      1954400510  20150218T000000  510000.0         3       2.00   \n",
       "...           ...              ...       ...       ...        ...   \n",
       "21608   263000018  20140521T000000  360000.0         3       2.50   \n",
       "21609  6600060120  20150223T000000  400000.0         4       2.50   \n",
       "21610  1523300141  20140623T000000  402101.0         2       0.75   \n",
       "21611   291310100  20150116T000000  400000.0         3       2.50   \n",
       "21612  1523300157  20141015T000000  325000.0         2       0.75   \n",
       "\n",
       "       sqft_living  sqft_lot  floors  waterfront  view  ...  grade  \\\n",
       "0             1180      5650     1.0           0     0  ...      7   \n",
       "1             2570      7242     2.0           0     0  ...      7   \n",
       "2              770     10000     1.0           0     0  ...      6   \n",
       "3             1960      5000     1.0           0     0  ...      7   \n",
       "4             1680      8080     1.0           0     0  ...      8   \n",
       "...            ...       ...     ...         ...   ...  ...    ...   \n",
       "21608         1530      1131     3.0           0     0  ...      8   \n",
       "21609         2310      5813     2.0           0     0  ...      8   \n",
       "21610         1020      1350     2.0           0     0  ...      7   \n",
       "21611         1600      2388     2.0           0     0  ...      8   \n",
       "21612         1020      1076     2.0           0     0  ...      7   \n",
       "\n",
       "       sqft_above  sqft_basement  yr_built  yr_renovated  zipcode      lat  \\\n",
       "0            1180              0      1955             0    98178  47.5112   \n",
       "1            2170            400      1951          1991    98125  47.7210   \n",
       "2             770              0      1933             0    98028  47.7379   \n",
       "3            1050            910      1965             0    98136  47.5208   \n",
       "4            1680              0      1987             0    98074  47.6168   \n",
       "...           ...            ...       ...           ...      ...      ...   \n",
       "21608        1530              0      2009             0    98103  47.6993   \n",
       "21609        2310              0      2014             0    98146  47.5107   \n",
       "21610        1020              0      2009             0    98144  47.5944   \n",
       "21611        1600              0      2004             0    98027  47.5345   \n",
       "21612        1020              0      2008             0    98144  47.5941   \n",
       "\n",
       "          long  sqft_living15  sqft_lot15  \n",
       "0     -122.257           1340        5650  \n",
       "1     -122.319           1690        7639  \n",
       "2     -122.233           2720        8062  \n",
       "3     -122.393           1360        5000  \n",
       "4     -122.045           1800        7503  \n",
       "...        ...            ...         ...  \n",
       "21608 -122.346           1530        1509  \n",
       "21609 -122.362           1830        7200  \n",
       "21610 -122.299           1020        2007  \n",
       "21611 -122.069           1410        1287  \n",
       "21612 -122.299           1020        1357  \n",
       "\n",
       "[21613 rows x 21 columns]"
      ],
      "text/html": "<div>\n<style scoped>\n    .dataframe tbody tr th:only-of-type {\n        vertical-align: middle;\n    }\n\n    .dataframe tbody tr th {\n        vertical-align: top;\n    }\n\n    .dataframe thead th {\n        text-align: right;\n    }\n</style>\n<table border=\"1\" class=\"dataframe\">\n  <thead>\n    <tr style=\"text-align: right;\">\n      <th></th>\n      <th>id</th>\n      <th>date</th>\n      <th>price</th>\n      <th>bedrooms</th>\n      <th>bathrooms</th>\n      <th>sqft_living</th>\n      <th>sqft_lot</th>\n      <th>floors</th>\n      <th>waterfront</th>\n      <th>view</th>\n      <th>...</th>\n      <th>grade</th>\n      <th>sqft_above</th>\n      <th>sqft_basement</th>\n      <th>yr_built</th>\n      <th>yr_renovated</th>\n      <th>zipcode</th>\n      <th>lat</th>\n      <th>long</th>\n      <th>sqft_living15</th>\n      <th>sqft_lot15</th>\n    </tr>\n  </thead>\n  <tbody>\n    <tr>\n      <th>0</th>\n      <td>7129300520</td>\n      <td>20141013T000000</td>\n      <td>221900.0</td>\n      <td>3</td>\n      <td>1.00</td>\n      <td>1180</td>\n      <td>5650</td>\n      <td>1.0</td>\n      <td>0</td>\n      <td>0</td>\n      <td>...</td>\n      <td>7</td>\n      <td>1180</td>\n      <td>0</td>\n      <td>1955</td>\n      <td>0</td>\n      <td>98178</td>\n      <td>47.5112</td>\n      <td>-122.257</td>\n      <td>1340</td>\n      <td>5650</td>\n    </tr>\n    <tr>\n      <th>1</th>\n      <td>6414100192</td>\n      <td>20141209T000000</td>\n      <td>538000.0</td>\n      <td>3</td>\n      <td>2.25</td>\n      <td>2570</td>\n      <td>7242</td>\n      <td>2.0</td>\n      <td>0</td>\n      <td>0</td>\n      <td>...</td>\n      <td>7</td>\n      <td>2170</td>\n      <td>400</td>\n      <td>1951</td>\n      <td>1991</td>\n      <td>98125</td>\n      <td>47.7210</td>\n      <td>-122.319</td>\n      <td>1690</td>\n      <td>7639</td>\n    </tr>\n    <tr>\n      <th>2</th>\n      <td>5631500400</td>\n      <td>20150225T000000</td>\n      <td>180000.0</td>\n      <td>2</td>\n      <td>1.00</td>\n      <td>770</td>\n      <td>10000</td>\n      <td>1.0</td>\n      <td>0</td>\n      <td>0</td>\n      <td>...</td>\n      <td>6</td>\n      <td>770</td>\n      <td>0</td>\n      <td>1933</td>\n      <td>0</td>\n      <td>98028</td>\n      <td>47.7379</td>\n      <td>-122.233</td>\n      <td>2720</td>\n      <td>8062</td>\n    </tr>\n    <tr>\n      <th>3</th>\n      <td>2487200875</td>\n      <td>20141209T000000</td>\n      <td>604000.0</td>\n      <td>4</td>\n      <td>3.00</td>\n      <td>1960</td>\n      <td>5000</td>\n      <td>1.0</td>\n      <td>0</td>\n      <td>0</td>\n      <td>...</td>\n      <td>7</td>\n      <td>1050</td>\n      <td>910</td>\n      <td>1965</td>\n      <td>0</td>\n      <td>98136</td>\n      <td>47.5208</td>\n      <td>-122.393</td>\n      <td>1360</td>\n      <td>5000</td>\n    </tr>\n    <tr>\n      <th>4</th>\n      <td>1954400510</td>\n      <td>20150218T000000</td>\n      <td>510000.0</td>\n      <td>3</td>\n      <td>2.00</td>\n      <td>1680</td>\n      <td>8080</td>\n      <td>1.0</td>\n      <td>0</td>\n      <td>0</td>\n      <td>...</td>\n      <td>8</td>\n      <td>1680</td>\n      <td>0</td>\n      <td>1987</td>\n      <td>0</td>\n      <td>98074</td>\n      <td>47.6168</td>\n      <td>-122.045</td>\n      <td>1800</td>\n      <td>7503</td>\n    </tr>\n    <tr>\n      <th>...</th>\n      <td>...</td>\n      <td>...</td>\n      <td>...</td>\n      <td>...</td>\n      <td>...</td>\n      <td>...</td>\n      <td>...</td>\n      <td>...</td>\n      <td>...</td>\n      <td>...</td>\n      <td>...</td>\n      <td>...</td>\n      <td>...</td>\n      <td>...</td>\n      <td>...</td>\n      <td>...</td>\n      <td>...</td>\n      <td>...</td>\n      <td>...</td>\n      <td>...</td>\n      <td>...</td>\n    </tr>\n    <tr>\n      <th>21608</th>\n      <td>263000018</td>\n      <td>20140521T000000</td>\n      <td>360000.0</td>\n      <td>3</td>\n      <td>2.50</td>\n      <td>1530</td>\n      <td>1131</td>\n      <td>3.0</td>\n      <td>0</td>\n      <td>0</td>\n      <td>...</td>\n      <td>8</td>\n      <td>1530</td>\n      <td>0</td>\n      <td>2009</td>\n      <td>0</td>\n      <td>98103</td>\n      <td>47.6993</td>\n      <td>-122.346</td>\n      <td>1530</td>\n      <td>1509</td>\n    </tr>\n    <tr>\n      <th>21609</th>\n      <td>6600060120</td>\n      <td>20150223T000000</td>\n      <td>400000.0</td>\n      <td>4</td>\n      <td>2.50</td>\n      <td>2310</td>\n      <td>5813</td>\n      <td>2.0</td>\n      <td>0</td>\n      <td>0</td>\n      <td>...</td>\n      <td>8</td>\n      <td>2310</td>\n      <td>0</td>\n      <td>2014</td>\n      <td>0</td>\n      <td>98146</td>\n      <td>47.5107</td>\n      <td>-122.362</td>\n      <td>1830</td>\n      <td>7200</td>\n    </tr>\n    <tr>\n      <th>21610</th>\n      <td>1523300141</td>\n      <td>20140623T000000</td>\n      <td>402101.0</td>\n      <td>2</td>\n      <td>0.75</td>\n      <td>1020</td>\n      <td>1350</td>\n      <td>2.0</td>\n      <td>0</td>\n      <td>0</td>\n      <td>...</td>\n      <td>7</td>\n      <td>1020</td>\n      <td>0</td>\n      <td>2009</td>\n      <td>0</td>\n      <td>98144</td>\n      <td>47.5944</td>\n      <td>-122.299</td>\n      <td>1020</td>\n      <td>2007</td>\n    </tr>\n    <tr>\n      <th>21611</th>\n      <td>291310100</td>\n      <td>20150116T000000</td>\n      <td>400000.0</td>\n      <td>3</td>\n      <td>2.50</td>\n      <td>1600</td>\n      <td>2388</td>\n      <td>2.0</td>\n      <td>0</td>\n      <td>0</td>\n      <td>...</td>\n      <td>8</td>\n      <td>1600</td>\n      <td>0</td>\n      <td>2004</td>\n      <td>0</td>\n      <td>98027</td>\n      <td>47.5345</td>\n      <td>-122.069</td>\n      <td>1410</td>\n      <td>1287</td>\n    </tr>\n    <tr>\n      <th>21612</th>\n      <td>1523300157</td>\n      <td>20141015T000000</td>\n      <td>325000.0</td>\n      <td>2</td>\n      <td>0.75</td>\n      <td>1020</td>\n      <td>1076</td>\n      <td>2.0</td>\n      <td>0</td>\n      <td>0</td>\n      <td>...</td>\n      <td>7</td>\n      <td>1020</td>\n      <td>0</td>\n      <td>2008</td>\n      <td>0</td>\n      <td>98144</td>\n      <td>47.5941</td>\n      <td>-122.299</td>\n      <td>1020</td>\n      <td>1357</td>\n    </tr>\n  </tbody>\n</table>\n<p>21613 rows × 21 columns</p>\n</div>"
     },
     "metadata": {},
     "execution_count": 31
    }
   ],
   "source": [
    "DATA=pd.read_csv(\"/home/thuongle2210/Documents/machine learning/machine_learning_basis/Linear Regression/archive (1)/kc_house_data.csv\")\n",
    "DATA"
   ]
  },
  {
   "source": [
    "PHƯƠNG PHÁP ĐẠO HÀM, TÌM ĐIỂM CỰC TIỂU"
   ],
   "cell_type": "markdown",
   "metadata": {}
  },
  {
   "cell_type": "code",
   "execution_count": 32,
   "metadata": {},
   "outputs": [],
   "source": [
    "X = np.array(DATA[['sqft_living','sqft_lot','sqft_above','sqft_basement','sqft_living15','sqft_lot15','bathrooms','long']])\n",
    "one=np.ones((X.shape[0],1))\n",
    "Xbar=np.concatenate((one,X),axis=1)\n",
    "Y= np.array(DATA['price'])"
   ]
  },
  {
   "cell_type": "code",
   "execution_count": 33,
   "metadata": {},
   "outputs": [],
   "source": [
    "A=np.dot(Xbar.T,Xbar)\n",
    "b=np.dot(Xbar.T,Y)\n",
    "w=np.dot(np.linalg.pinv(A),b)"
   ]
  },
  {
   "cell_type": "code",
   "execution_count": 34,
   "metadata": {},
   "outputs": [
    {
     "output_type": "execute_result",
     "data": {
      "text/plain": [
       "38014167.99312342"
      ]
     },
     "metadata": {},
     "execution_count": 34
    }
   ],
   "source": [
    "norm(np.dot(Xbar,w)-Y)"
   ]
  },
  {
   "source": [
    "print(w)"
   ],
   "cell_type": "code",
   "metadata": {},
   "execution_count": 35,
   "outputs": [
    {
     "output_type": "stream",
     "name": "stdout",
     "text": [
      "[-7.24597907e+00  1.69383920e+02  7.94498385e-02  6.75772900e+01\n  1.01806630e+02  7.74783378e+01 -7.92415645e-01 -5.89873629e+03\n  7.78950072e+02]\n"
     ]
    }
   ]
  },
  {
   "source": [
    "Kiểm tra tính singular"
   ],
   "cell_type": "markdown",
   "metadata": {}
  },
  {
   "cell_type": "code",
   "execution_count": 36,
   "metadata": {},
   "outputs": [
    {
     "output_type": "stream",
     "name": "stdout",
     "text": [
      "7\n"
     ]
    }
   ],
   "source": [
    "print(matrix_rank(A))"
   ]
  },
  {
   "source": [
    "PHƯƠNG PHÁP DÙNG THƯ VIỆN linear_model.LinearRegression()\n"
   ],
   "cell_type": "markdown",
   "metadata": {}
  },
  {
   "cell_type": "code",
   "execution_count": 37,
   "metadata": {},
   "outputs": [
    {
     "output_type": "stream",
     "name": "stdout",
     "text": [
      "-59565468.14643187\n"
     ]
    }
   ],
   "source": [
    "from sklearn import datasets,linear_model\n",
    "regr=linear_model.LinearRegression()\n",
    "regr.fit(X,Y)\n",
    "print(regr.intercept_)\n"
   ]
  },
  {
   "cell_type": "code",
   "execution_count": 38,
   "metadata": {},
   "outputs": [
    {
     "output_type": "stream",
     "name": "stdout",
     "text": [
      "36940259.65833512\n"
     ]
    }
   ],
   "source": [
    "print(norm(regr.predict(X)-Y))"
   ]
  },
  {
   "cell_type": "code",
   "execution_count": 39,
   "metadata": {},
   "outputs": [
    {
     "output_type": "stream",
     "name": "stdout",
     "text": [
      "-59565468.14643187\n[ 1.58274827e+02  2.17049554e-01  8.08265034e+01  7.74483235e+01\n  1.04537394e+02 -4.51414879e-01  2.98806305e+03 -4.86014544e+05]\n"
     ]
    }
   ],
   "source": [
    "print(regr.intercept_)\n",
    "print(regr.coef_)"
   ]
  },
  {
   "source": [
    "Nếu ta bỏ cột 'long' trong X đi thì mất nghịch đảo được mảng A. Do đó kết quả lại giống nhau."
   ],
   "cell_type": "markdown",
   "metadata": {}
  },
  {
   "cell_type": "code",
   "execution_count": 40,
   "metadata": {},
   "outputs": [],
   "source": [
    "X = np.array(DATA[['sqft_living','sqft_lot','sqft_above','sqft_basement','sqft_living15','sqft_lot15','bathrooms']])\n",
    "one=np.ones((X.shape[0],1))\n",
    "Xbar=np.concatenate((one,X),axis=1)\n",
    "Y= np.array(DATA['price'])"
   ]
  },
  {
   "cell_type": "code",
   "execution_count": 41,
   "metadata": {},
   "outputs": [],
   "source": [
    "A=np.dot(Xbar.T,Xbar)\n",
    "b=np.dot(Xbar.T,Y)\n",
    "w=np.dot(np.linalg.pinv(A),b)"
   ]
  },
  {
   "cell_type": "code",
   "execution_count": 42,
   "metadata": {},
   "outputs": [
    {
     "output_type": "execute_result",
     "data": {
      "text/plain": [
       "38010768.97675811"
      ]
     },
     "metadata": {},
     "execution_count": 42
    }
   ],
   "source": [
    "norm(np.dot(Xbar,w)-Y)"
   ]
  },
  {
   "cell_type": "code",
   "execution_count": 43,
   "metadata": {},
   "outputs": [
    {
     "output_type": "stream",
     "name": "stdout",
     "text": [
      "[-9.60690426e+04  1.69290211e+02  7.96850138e-02  6.75505920e+01\n  1.01746126e+02  7.77796884e+01 -7.91736244e-01 -5.68586789e+03]\n"
     ]
    }
   ],
   "source": [
    "print(w)"
   ]
  },
  {
   "source": [
    "Kiểm tra tính singular"
   ],
   "cell_type": "markdown",
   "metadata": {}
  },
  {
   "cell_type": "code",
   "execution_count": 44,
   "metadata": {},
   "outputs": [
    {
     "output_type": "stream",
     "name": "stdout",
     "text": [
      "7\n"
     ]
    }
   ],
   "source": [
    "print(matrix_rank(A))"
   ]
  },
  {
   "cell_type": "code",
   "execution_count": 45,
   "metadata": {},
   "outputs": [
    {
     "output_type": "stream",
     "name": "stdout",
     "text": [
      "-96069.0425613086\n"
     ]
    }
   ],
   "source": [
    "from sklearn import datasets,linear_model\n",
    "regr=linear_model.LinearRegression()\n",
    "regr.fit(X,Y)\n",
    "print(regr.intercept_)\n"
   ]
  },
  {
   "cell_type": "code",
   "execution_count": 46,
   "metadata": {},
   "outputs": [
    {
     "output_type": "stream",
     "name": "stdout",
     "text": [
      "38010768.97675811\n"
     ]
    }
   ],
   "source": [
    "print(norm(regr.predict(X)-Y))"
   ]
  },
  {
   "cell_type": "code",
   "execution_count": 47,
   "metadata": {},
   "outputs": [
    {
     "output_type": "stream",
     "name": "stdout",
     "text": [
      "-96069.0425613086\n[ 1.69292380e+02  7.96850138e-02  6.75484231e+01  1.01743957e+02\n  7.77796884e+01 -7.91736244e-01 -5.68586790e+03]\n"
     ]
    }
   ],
   "source": [
    "print(regr.intercept_)\n",
    "print(regr.coef_)"
   ]
  }
 ]
}